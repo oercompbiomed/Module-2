{
 "cells": [
  {
   "cell_type": "markdown",
   "metadata": {},
   "source": [
    "# OOP With Python\n",
    "\n",
    "In this notebook, we go over the basics of OOP with python and introduce some basic concepts like classes, objects, methods which you will frequently come across during reviewing Neural Network architectures.\n",
    "OOP is used to structure code to avoid repeatability. It allows to define objects like real life examples and reuse chunks of code from previous snippets without exclusively requiring to write hundreds of code lines."
   ]
  },
  {
   "cell_type": "markdown",
   "metadata": {},
   "source": [
    "## 1. Class\n",
    "Class is like a blueprint to define an object. An instance is an object of that class.For example, cat, dog, sheep can be instances of class _Animal_. \n",
    "> How to define a class: We are going to create a Class _People_ and add the statement _pass_. The _pass_ is a placeholder for code that can be added later, and allows the code to run without interruption. "
   ]
  },
  {
   "cell_type": "code",
   "execution_count": 6,
   "metadata": {},
   "outputs": [
    {
     "data": {
      "text/plain": [
       "<__main__.People at 0x1e032e9d668>"
      ]
     },
     "execution_count": 6,
     "metadata": {},
     "output_type": "execute_result"
    }
   ],
   "source": [
    "class People:\n",
    "    pass\n",
    "#Instantiating class\n",
    "P1=People()\n",
    "print(P1)"
   ]
  },
  {
   "cell_type": "markdown",
   "metadata": {},
   "source": [
    "P1 is an instance of class _People_. By printing, we can see an object P1 is created at the memory location <0x000001E032E9DB00>"
   ]
  },
  {
   "cell_type": "markdown",
   "metadata": {},
   "source": [
    "## 1.1 Initializing a class\n",
    "The\\_\\_init\\_\\_method is used to initialise a class. Classes have attributes for example, a person can have _age_, _gender_ as attributes. All instances of the class will have the same attributes of the class. We donot need to call the \\_\\_init\\_\\_ method separately. Python calls it everytime we create an instance of a class.\n",
    "The \\_\\_init\\_\\_ method always needs the argument variable _self_. This refers to the current instance of the class. _self_ is a conventional name.\n",
    "> - Now we will define the \\_\\_init\\_\\_ method and add three attributes: name, age, gender. We will also assign a default value of the attribute _age_ to 18.\n",
    "> - Then we will create instances of this class. Notice how the arguments for a class are passed in the \\_\\_init\\_\\_ method and hence same number of arguments are to be passed while creating an instance, unless there is a default value assigned to the attribute. A default value can be assigned to an attribute by inserting the attribute_name=value while passing the argument in \\_\\_init\\_\\_ method. While creating the instance, if the argument is present, the default value gets overwritten.\n",
    "> - Then we can access the attributes of each instance"
   ]
  },
  {
   "cell_type": "code",
   "execution_count": 5,
   "metadata": {},
   "outputs": [
    {
     "name": "stdout",
     "output_type": "stream",
     "text": [
      "Tim\n",
      "18\n",
      "Male\n",
      "Marie\n",
      "20\n",
      "Female\n"
     ]
    }
   ],
   "source": [
    "class People:\n",
    "    #initializing\n",
    "    def __init__(self,name, gender, age=18):\n",
    "        self.name = name\n",
    "        self.age = age\n",
    "        self.gender = gender\n",
    "        \n",
    "Tim = People('Tim','Male')\n",
    "Marie = People('Marie', 'Female', 20)\n",
    "print(Tim.name)\n",
    "print(Tim.age)\n",
    "print(Tim.gender)\n",
    "print(Marie.name)\n",
    "print(Marie.age)\n",
    "print(Marie.gender)"
   ]
  },
  {
   "cell_type": "markdown",
   "metadata": {},
   "source": [
    "## 2. Class Attribute\n",
    "A class attribute belongs to the class itself and is shared by all instances. So the value is same for all instances. It is generally placed outside all attributes and methods. \n",
    "> We will create a class attribute guest_list. Everytime a new instance is created, the guest list will increase by 1. Notice how class attributes are accessed using class name. Later, we will see class attributes can be accessed using instances as well."
   ]
  },
  {
   "cell_type": "code",
   "execution_count": 11,
   "metadata": {},
   "outputs": [
    {
     "name": "stdout",
     "output_type": "stream",
     "text": [
      "0\n",
      "2\n"
     ]
    }
   ],
   "source": [
    "class People:\n",
    "    guest_list =0\n",
    "    def __init__(self,name, gender, age=18):\n",
    "        self.name = name\n",
    "        self.age = age\n",
    "        self.gender = gender\n",
    "        People.guest_list+=1\n",
    "\n",
    "print(People.guest_list)\n",
    "Tim = People('Tim','Male')\n",
    "Marie = People('Marie', 'Female', 20)\n",
    "print(People.guest_list)"
   ]
  },
  {
   "cell_type": "markdown",
   "metadata": {},
   "source": [
    "Lets look at another example of how class attributes can be useful. Below we will create a class attribute club_members which contains a list of names of people who are allowed to the party. If the user instantiates a class instance with a name which does not belong to this list, the program will throw an error."
   ]
  },
  {
   "cell_type": "code",
   "execution_count": 2,
   "metadata": {},
   "outputs": [
    {
     "name": "stdout",
     "output_type": "stream",
     "text": [
      "18\n"
     ]
    },
    {
     "ename": "ValueError",
     "evalue": "Tim is not in guest list",
     "output_type": "error",
     "traceback": [
      "\u001b[1;31m---------------------------------------------------------------------------\u001b[0m",
      "\u001b[1;31mValueError\u001b[0m                                Traceback (most recent call last)",
      "\u001b[1;32m<ipython-input-2-c9d775667898>\u001b[0m in \u001b[0;36m<module>\u001b[1;34m\u001b[0m\n\u001b[0;32m     10\u001b[0m \u001b[0mLiz\u001b[0m \u001b[1;33m=\u001b[0m \u001b[0mPeople\u001b[0m\u001b[1;33m(\u001b[0m\u001b[1;34m'Liz'\u001b[0m\u001b[1;33m,\u001b[0m\u001b[1;34m'Female'\u001b[0m\u001b[1;33m)\u001b[0m\u001b[1;33m\u001b[0m\u001b[1;33m\u001b[0m\u001b[0m\n\u001b[0;32m     11\u001b[0m \u001b[0mprint\u001b[0m\u001b[1;33m(\u001b[0m\u001b[0mLiz\u001b[0m\u001b[1;33m.\u001b[0m\u001b[0mage\u001b[0m\u001b[1;33m)\u001b[0m\u001b[1;33m\u001b[0m\u001b[1;33m\u001b[0m\u001b[0m\n\u001b[1;32m---> 12\u001b[1;33m \u001b[0mTim\u001b[0m \u001b[1;33m=\u001b[0m \u001b[0mPeople\u001b[0m\u001b[1;33m(\u001b[0m\u001b[1;34m'Tim'\u001b[0m\u001b[1;33m,\u001b[0m\u001b[1;34m'Male'\u001b[0m\u001b[1;33m)\u001b[0m\u001b[1;33m\u001b[0m\u001b[1;33m\u001b[0m\u001b[0m\n\u001b[0m",
      "\u001b[1;32m<ipython-input-2-c9d775667898>\u001b[0m in \u001b[0;36m__init__\u001b[1;34m(self, name, gender, age)\u001b[0m\n\u001b[0;32m      3\u001b[0m     \u001b[1;32mdef\u001b[0m \u001b[0m__init__\u001b[0m\u001b[1;33m(\u001b[0m\u001b[0mself\u001b[0m\u001b[1;33m,\u001b[0m\u001b[0mname\u001b[0m\u001b[1;33m,\u001b[0m \u001b[0mgender\u001b[0m\u001b[1;33m,\u001b[0m \u001b[0mage\u001b[0m\u001b[1;33m=\u001b[0m\u001b[1;36m18\u001b[0m\u001b[1;33m)\u001b[0m\u001b[1;33m:\u001b[0m\u001b[1;33m\u001b[0m\u001b[1;33m\u001b[0m\u001b[0m\n\u001b[0;32m      4\u001b[0m         \u001b[1;32mif\u001b[0m \u001b[0mname\u001b[0m \u001b[1;32mnot\u001b[0m \u001b[1;32min\u001b[0m \u001b[0mPeople\u001b[0m\u001b[1;33m.\u001b[0m\u001b[0mguest_list\u001b[0m\u001b[1;33m:\u001b[0m\u001b[1;33m\u001b[0m\u001b[1;33m\u001b[0m\u001b[0m\n\u001b[1;32m----> 5\u001b[1;33m             \u001b[1;32mraise\u001b[0m \u001b[0mValueError\u001b[0m\u001b[1;33m(\u001b[0m\u001b[1;34mf\"{name} is not in guest list\"\u001b[0m\u001b[1;33m)\u001b[0m\u001b[1;33m\u001b[0m\u001b[1;33m\u001b[0m\u001b[0m\n\u001b[0m\u001b[0;32m      6\u001b[0m         \u001b[0mself\u001b[0m\u001b[1;33m.\u001b[0m\u001b[0mname\u001b[0m \u001b[1;33m=\u001b[0m \u001b[0mname\u001b[0m\u001b[1;33m\u001b[0m\u001b[1;33m\u001b[0m\u001b[0m\n\u001b[0;32m      7\u001b[0m         \u001b[0mself\u001b[0m\u001b[1;33m.\u001b[0m\u001b[0mage\u001b[0m \u001b[1;33m=\u001b[0m \u001b[0mage\u001b[0m\u001b[1;33m\u001b[0m\u001b[1;33m\u001b[0m\u001b[0m\n",
      "\u001b[1;31mValueError\u001b[0m: Tim is not in guest list"
     ]
    }
   ],
   "source": [
    "class People:\n",
    "    guest_list =[\"Marie\", \"Liz\", \"John\",\"Ravi\", \"Delilah\",\"Jack\",\"Dave\"]\n",
    "    def __init__(self,name, gender, age=18):\n",
    "        if name not in People.guest_list:\n",
    "            raise ValueError(f\"{name} is not in guest list\")\n",
    "        self.name = name\n",
    "        self.age = age\n",
    "        self.gender = gender\n",
    "\n",
    "Liz = People('Liz','Female')\n",
    "print(Liz.age)\n",
    "Tim = People('Tim','Male')"
   ]
  },
  {
   "cell_type": "markdown",
   "metadata": {},
   "source": [
    "## 3. Methods\n",
    "A method is a function which does something. While attributes are properties of a class, a class may have several methods for carrying out different operations. \n",
    "### 3.1. Instance Methods\n",
    "This method takes _self_ as argument, and can access class instance through self.\n",
    ">We will create two instance methods for a class called Mail. The two methods simulate when you send and receive an email.\n",
    "Notice how we call methods as class_name.method_name(arg), whilst accessing attributes '()' is not required."
   ]
  },
  {
   "cell_type": "code",
   "execution_count": 6,
   "metadata": {},
   "outputs": [
    {
     "name": "stdout",
     "output_type": "stream",
     "text": [
      "Message sent! You have 1 mails in Sent.\n",
      "New email! You have 2 emails.\n",
      "1\n",
      "Message sent! You have 4 mails in Sent.\n",
      "4\n"
     ]
    }
   ],
   "source": [
    "class Mail:\n",
    "    def __init__(self):\n",
    "        self.inbox=0\n",
    "        self.sent=0\n",
    "    def send_mail(self, num=1):\n",
    "        self.sent+=num\n",
    "        print(f\"Message sent! You have {self.sent} mails in Sent.\")\n",
    "    def receive_mail(self, num=1):\n",
    "        self.inbox+=num\n",
    "        print(f\"New email! You have {self.inbox} emails.\")\n",
    "email1=Mail()\n",
    "email1.send_mail()\n",
    "email1.receive_mail(2)\n",
    "print(email1.sent)\n",
    "email1.send_mail(3)\n",
    "print(email1.sent)"
   ]
  },
  {
   "cell_type": "markdown",
   "metadata": {},
   "source": [
    "### 3.2. Class Methods\n",
    "This method takes _cls_ as argument, and can change state of the class as a whole, not separately instance of a class. it uses _@classmethod_ decorator to define as classmethod.\n",
    ">We will create a class method for a class _Intro_. It will take name, age and profession and send a short introduction. \n"
   ]
  },
  {
   "cell_type": "code",
   "execution_count": 75,
   "metadata": {},
   "outputs": [
    {
     "name": "stdout",
     "output_type": "stream",
     "text": [
      "Mark is Lawyer by profession!\n",
      "Anita is Doctor by profession!\n"
     ]
    }
   ],
   "source": [
    "class Intro:\n",
    "    def __init__(self, name, profession, age=18):\n",
    "        self.name = name\n",
    "        self.age = age\n",
    "        self.profession = profession\n",
    "    @classmethod\n",
    "    def bio(cls,name,profession):\n",
    "        print(f\"{name} is {profession} by profession!\")\n",
    "Anita= Intro('Anita', 'Doctor',18)\n",
    "Intro.bio('Mark','Lawyer')\n",
    "Anita.bio('Anita','Doctor')"
   ]
  },
  {
   "cell_type": "markdown",
   "metadata": {},
   "source": [
    "### 3.3 Static Methods\n",
    "These methods donot take in _cls_ or _self_ as arguments and does not alter any state of the instance or the class. It uses _@staticmethod_ as a decorator and you can use it to do any operation independent of the particular class"
   ]
  },
  {
   "cell_type": "code",
   "execution_count": 31,
   "metadata": {},
   "outputs": [
    {
     "name": "stdout",
     "output_type": "stream",
     "text": [
      "20\n"
     ]
    }
   ],
   "source": [
    "class Calculator:\n",
    "    def __init__(self):\n",
    "        pass\n",
    "    @staticmethod\n",
    "    def multiply(x,y):\n",
    "        return(x*y)\n",
    "result= Calculator.multiply(4,5)\n",
    "print(result)"
   ]
  },
  {
   "cell_type": "markdown",
   "metadata": {},
   "source": [
    "## 4. Different underscore representations and their meanings\n",
    "Often with python OOP, you will encounter the following three underscore representations: \n",
    "- \\_\\_method1\\_\\_\n",
    "- \\_method2\n",
    "- \\_\\_method3\n",
    "\n",
    "### 4.1 \\_\\_method1\\_\\_ \n",
    "\\_\\_method1\\_\\_ is called a Dunder method/ Double Underscore/ magic method. They are predefined and although it is possible to create your own Dunder method, it is recommended not to create one. These allow you to implement some neat functionalities to your OOP structure. Some examples are \\_\\_init\\_\\_, \\_\\_del\\_\\_, \\_\\_repr\\_\\_. \n",
    "<br>The complete list of all Dunder methods are available in: __[Dunder_Methods_in_Python](https://docs.python.org/2/reference/datamodel.html#special-method-names)__\n",
    "<br>\n",
    "<br> We have already seen the implementation for this as __init__ method to initialize a class. __del__ is used when you want to delete some instance of a class. \n",
    "<br> Lets look at __repr__ method. This is used to often add an informal string statement to a class object, so instead of getting the following ugly statement '__main__.People at 0x1e032e9d668', we can print something which gives us some information about the class object. \n",
    "\n"
   ]
  },
  {
   "cell_type": "code",
   "execution_count": 32,
   "metadata": {},
   "outputs": [
    {
     "name": "stdout",
     "output_type": "stream",
     "text": [
      "This class is a database of people\n"
     ]
    }
   ],
   "source": [
    "class People:\n",
    "    #initializing\n",
    "    def __init__(self,name):\n",
    "        self.name = name\n",
    "    def __repr__(self):\n",
    "        return ('This class is a database of people')\n",
    "print(People(\"Rick\"))"
   ]
  },
  {
   "cell_type": "markdown",
   "metadata": {},
   "source": [
    "### 4.2.  \\_method2\n",
    " \\_method2 (single underscore name) is a conventional way of indicating that this is a private method. Functionally it is same as normal instance method. It is a way for developers to communicate that this function should not be modified. This can also be applied to attributes to make them private.\n",
    "<br> Lets look at 2 examples which will show that basically private methods are same as normal methods"
   ]
  },
  {
   "cell_type": "code",
   "execution_count": 48,
   "metadata": {},
   "outputs": [
    {
     "name": "stdout",
     "output_type": "stream",
     "text": [
      "This is a Honda car.\n",
      "The model of this car is civic.\n"
     ]
    }
   ],
   "source": [
    "class Car:\n",
    "    def __init__(self,name, model):\n",
    "        self.name = name\n",
    "        self.model=model\n",
    "    def car_name(self):\n",
    "        return (f\"This is a {self.name} car.\")\n",
    "    def _model(self):\n",
    "        return (f'The model of this car is {self.model}.')\n",
    "c1= Car('Honda','civic')\n",
    "print(c1.car_name())\n",
    "print(c1._model())"
   ]
  },
  {
   "cell_type": "markdown",
   "metadata": {},
   "source": [
    "### 4.3. \\_\\_method3 \n",
    " \\_\\_method3 (double underscore name) is a method called name wrangling. It is particularly useful when we learn about inheritance. Imagine there are two classes with same method/attribute name. It would be confusing for python to know which method/attribute you are referring to. This allows to tie a method/attribute to a particular class. Lets look at an example of how it is implemented.\n"
   ]
  },
  {
   "cell_type": "code",
   "execution_count": 66,
   "metadata": {},
   "outputs": [
    {
     "name": "stdout",
     "output_type": "stream",
     "text": [
      "Lady Gaga\n",
      "Lady Gaga\n",
      "BradleyCooper, actor by profession has just arrived to the Oscar.\n"
     ]
    }
   ],
   "source": [
    "class OscarParty:\n",
    "    def __init__(self, name, profession):\n",
    "        self.__nam=name\n",
    "        self.profession=profession\n",
    "    def __prof(self):\n",
    "        return (f'{self.__nam}, {self.profession} by profession has just arrived to the Oscar.')\n",
    "   \n",
    "        \n",
    "class GrammyParty:\n",
    "    def __init__(self, name,num_songs):\n",
    "        self.__nam=name        \n",
    "        self.num_songs=num_songs\n",
    "    \n",
    "g1= OscarParty('Lady Gaga', 'singer/actress')\n",
    "g2 = OscarParty('BradleyCooper', 'actor')\n",
    "\n",
    "g3 = GrammyParty('Lady Gaga',65)\n",
    "g4 = GrammyParty('Bob Dylan',85)\n",
    "\n",
    "print(g1._OscarParty__nam)\n",
    "print(g3._GrammyParty__nam)\n",
    "print(g2._OscarParty__prof())"
   ]
  },
  {
   "cell_type": "markdown",
   "metadata": {},
   "source": [
    "## 5. Inheritance\n",
    "One of the most useful features of OOP is inheritance. It allows other classes to inherit attributes, methods from other classes also called base/parent class without explicitly defining them under inheriting class. Lets look at the following example. \n",
    "> We will create a base class Matter, and another class Liquid which inherits from this base class."
   ]
  },
  {
   "cell_type": "code",
   "execution_count": 77,
   "metadata": {},
   "outputs": [
    {
     "name": "stdout",
     "output_type": "stream",
     "text": [
      "3\n",
      "True\n",
      "True\n"
     ]
    }
   ],
   "source": [
    "class Matter:\n",
    "    def __init__(self,name,atoms_per_mol):\n",
    "        self.name=name\n",
    "        self.atom=atoms_per_mol\n",
    "class Liquid (Matter):\n",
    "    pass\n",
    "H2O=Liquid('water', 3)\n",
    "print(H2O.atom)\n",
    "print(isinstance(H2O,Matter))\n",
    "print(isinstance(H2O,Liquid))"
   ]
  },
  {
   "cell_type": "markdown",
   "metadata": {},
   "source": [
    "The _isinstance_ command allows us to see if an instance belongs to the mentioned class. In this case, it shows that _H2O_ is an instance of both base class _Matter_ and inheriting class _Liquid_"
   ]
  },
  {
   "cell_type": "markdown",
   "metadata": {},
   "source": [
    "# 6. Multiple Inheritance\n",
    "In this section we demonstrate how a child class can inherit from more than one base class. We will also introduce the \\_\\_super\\_\\_ method. In the next example we will create two base classes _Liquid_ and _Movie_ and a child class _Art_ which will inherit all methods of both the classes. \n",
    "<br> Next we will look at the init methods to find out what \\_\\_super\\_\\_ is used for.\n",
    "\n"
   ]
  },
  {
   "cell_type": "code",
   "execution_count": 88,
   "metadata": {},
   "outputs": [
    {
     "name": "stdout",
     "output_type": "stream",
     "text": [
      "LIQUID init'd\n",
      "SOLID init'd\n"
     ]
    }
   ],
   "source": [
    "class Liquid:\n",
    "    def __init__(self,name):\n",
    "        print (\"LIQUID init'd\")\n",
    "        self.name=name\n",
    "    def boiling(self,temp):\n",
    "        self.temp=temp\n",
    "        print(f'{self.name} is boiling at {self.temp} degree Celsius')\n",
    "        \n",
    "    \n",
    "class Solid:\n",
    "    def __init__(self,name):\n",
    "        print (\"SOLID init'd\")\n",
    "        self.name=name\n",
    "    def melting(self,temp):\n",
    "        self.temp=temp\n",
    "        print(f'{self.name} is melting at {self.temp} degree Celsius')\n",
    "    \n",
    "class Water(Liquid, Solid):\n",
    "    def __init__(self,name):\n",
    "        print (\"WATER init'd\")\n",
    "        super().__init__(name=name)\n",
    "        \n",
    "coke = Liquid('lemonade')\n",
    "calcium = Solid ('calcium')\n"
   ]
  },
  {
   "cell_type": "markdown",
   "metadata": {},
   "source": [
    "Lets now create an instance of Water and see which init gets called."
   ]
  },
  {
   "cell_type": "code",
   "execution_count": 89,
   "metadata": {},
   "outputs": [
    {
     "name": "stdout",
     "output_type": "stream",
     "text": [
      "WATER init'd\n",
      "LIQUID init'd\n"
     ]
    }
   ],
   "source": [
    "ice_water = Water('ice water')\n"
   ]
  },
  {
   "cell_type": "markdown",
   "metadata": {},
   "source": [
    "In the above example we see when we create an instance of Water with \\_\\_super\\_\\_ method, it inits with the Water class, and Liquid class, but not with solid class. Lets see if it inherits the methods from both classes and if ice_water is an instance of both parent classes"
   ]
  },
  {
   "cell_type": "code",
   "execution_count": 90,
   "metadata": {},
   "outputs": [
    {
     "name": "stdout",
     "output_type": "stream",
     "text": [
      "ice water is boiling at 100 degree Celsius\n",
      "ice water is melting at 0 degree Celsius\n",
      "True\n",
      "True\n",
      "True\n"
     ]
    }
   ],
   "source": [
    "ice_water.boiling(100)\n",
    "ice_water.melting(0)\n",
    "\n",
    "print(isinstance(ice_water,Water))\n",
    "print(isinstance(ice_water,Solid))\n",
    "print(isinstance(ice_water,Liquid))"
   ]
  },
  {
   "cell_type": "markdown",
   "metadata": {},
   "source": [
    "So we see ice_water is an instance of both the parent classes and the child class Water. Also although ice_water inherits the methods from both the parent classes, it inits only _Liquid_ class. This order of init is explained in the next example where we talk about MRO or Method Resolution Order. \n",
    "<br> Let us run the previous example but with the position of base classes switched and then look at which is init'd"
   ]
  },
  {
   "cell_type": "code",
   "execution_count": 91,
   "metadata": {},
   "outputs": [
    {
     "name": "stdout",
     "output_type": "stream",
     "text": [
      "WATER init'd\n",
      "SOLID init'd\n"
     ]
    }
   ],
   "source": [
    "class Liquid:\n",
    "    def __init__(self,name):\n",
    "        print (\"LIQUID init'd\")\n",
    "        self.name=name\n",
    "    def boiling(self,temp):\n",
    "        self.temp=temp\n",
    "        print(f'{self.name} is boiling at {self.temp} degree Celsius')\n",
    "        \n",
    "    \n",
    "class Solid:\n",
    "    def __init__(self,name):\n",
    "        print (\"SOLID init'd\")\n",
    "        self.name=name\n",
    "    def melting(self,temp):\n",
    "        self.temp=temp\n",
    "        print(f'{self.name} is melting at {self.temp} degree Celsius')\n",
    "    \n",
    "class Water(Solid, Liquid):\n",
    "    def __init__(self,name):\n",
    "        print (\"WATER init'd\")\n",
    "        super().__init__(name=name)\n",
    "        \n",
    "ice_water = Water('ice water')"
   ]
  },
  {
   "cell_type": "markdown",
   "metadata": {},
   "source": [
    "Aha! Now the SOLID is init'd not Liquid! Lets look behind the scenes of python about what is init'd in which order.\n",
    "\n",
    "# 7. MRO \n",
    "Explained simply, MRO is the way in which python determines the order in which the methods are resolved in case of multiple inheritance. Lets say both the parent classes have same method names, and we call the child with this method name. How does python figure out which method to execute? There is a complex algorithm which is used to order this sequence. For us, it is important to know that we can use \\_\\_mro\\_\\_ attribute, mro() method or help(cls) on the class to understand the order in which python will look for the methods of an instance. "
   ]
  },
  {
   "cell_type": "code",
   "execution_count": 101,
   "metadata": {},
   "outputs": [
    {
     "name": "stdout",
     "output_type": "stream",
     "text": [
      "Four is init'd\n",
      "(<class '__main__.Four'>, <class '__main__.Three'>, <class '__main__.Two'>, <class '__main__.One'>, <class 'object'>)\n",
      "[<class '__main__.Four'>, <class '__main__.Three'>, <class '__main__.Two'>, <class '__main__.One'>, <class 'object'>]\n",
      "Help on class Four in module __main__:\n",
      "\n",
      "class Four(Three, Two)\n",
      " |  Method resolution order:\n",
      " |      Four\n",
      " |      Three\n",
      " |      Two\n",
      " |      One\n",
      " |      builtins.object\n",
      " |  \n",
      " |  Methods defined here:\n",
      " |  \n",
      " |  __init__(self)\n",
      " |      Initialize self.  See help(type(self)) for accurate signature.\n",
      " |  \n",
      " |  ----------------------------------------------------------------------\n",
      " |  Data descriptors inherited from One:\n",
      " |  \n",
      " |  __dict__\n",
      " |      dictionary for instance variables (if defined)\n",
      " |  \n",
      " |  __weakref__\n",
      " |      list of weak references to the object (if defined)\n",
      "\n"
     ]
    }
   ],
   "source": [
    "class One:\n",
    "    def __init__(self):\n",
    "        print(\"ONE is init'd\")\n",
    "class Two(One):\n",
    "    def __init__(self):\n",
    "        print(\"TWO is init'd\")\n",
    "class Three( One):\n",
    "    def __init__(self):\n",
    "        print(\"Three is init'd\")\n",
    "class Four(Three,Two):\n",
    "    def __init__(self):\n",
    "        print(\"Four is init'd\")\n",
    "        \n",
    "number=Four()\n",
    "print(Four.__mro__)\n",
    "print(Four.mro())\n",
    "help(Four)"
   ]
  },
  {
   "cell_type": "markdown",
   "metadata": {},
   "source": [
    "So we see the order in which python looks for a method in case of multiple inheritance. Note that the above example is shown with the \\_\\_init\\_\\_ method, but mro is valid for any method. As a rule of thumb, it is important to remember the order is set by the positional order in which we input the parent classes as arguments while creating the child class. \n",
    "# 8. Super()\n",
    "So now that we have an understanding of what MRO is, lets look at how super uses this concept. In essence, super binds a the parent class \\_\\_init\\_\\_ to the child class that follows it in the mro. This is useful for coordinated multiple inheritance such that if we inject new base class later, your child class will inherit in correct manner. This helps subclasses to use new classes.\n",
    "For more information on _super()_, follow this very helpful post:\n",
    "__[Super_Explained_in_Python](https://stackoverflow.com/questions/222877/what-does-super-do-in-python/33469090#33469090)__\n"
   ]
  },
  {
   "cell_type": "code",
   "execution_count": 10,
   "metadata": {},
   "outputs": [
    {
     "name": "stdout",
     "output_type": "stream",
     "text": [
      "Calling Action in FOUR.\n",
      "Calling Action in THREE.\n",
      "Help on class Four in module __main__:\n",
      "\n",
      "class Four(Three, Two)\n",
      " |  Method resolution order:\n",
      " |      Four\n",
      " |      Three\n",
      " |      Two\n",
      " |      One\n",
      " |      builtins.object\n",
      " |  \n",
      " |  Methods defined here:\n",
      " |  \n",
      " |  action(self)\n",
      " |  \n",
      " |  ----------------------------------------------------------------------\n",
      " |  Data descriptors inherited from One:\n",
      " |  \n",
      " |  __dict__\n",
      " |      dictionary for instance variables (if defined)\n",
      " |  \n",
      " |  __weakref__\n",
      " |      list of weak references to the object (if defined)\n",
      "\n"
     ]
    }
   ],
   "source": [
    "class One:\n",
    "    def action(self):\n",
    "        print(\"Calling Action in ONE.\")\n",
    "class Two(One):\n",
    "    def action(self):\n",
    "        print(\"Calling Action in TWO.\")\n",
    "class Three( One):\n",
    "    def action(self):\n",
    "        print(\"Calling Action in THREE.\")\n",
    "class Four(Three,Two):\n",
    "    def action(self):\n",
    "        print(\"Calling Action in FOUR.\")\n",
    "        super().action()\n",
    "        \n",
    "number=Four()\n",
    "number.action()\n",
    "help(Four)"
   ]
  },
  {
   "cell_type": "markdown",
   "metadata": {},
   "source": [
    "When super() is added to class Four, it immediately follows the parent following it in mro. If this parent is bound to another parent by super(), then this can be seen as well and if this parent has another super, so on it follows. Lets demonstrate this. <br> This time we will inject a new base class _zero_ before class _ine_ and link up all the child classes with super, so that when we look at the mro of the last grandchild we will see it also appears in the order of its inheritance"
   ]
  },
  {
   "cell_type": "code",
   "execution_count": 11,
   "metadata": {},
   "outputs": [
    {
     "name": "stdout",
     "output_type": "stream",
     "text": [
      "Method in FOUR called\n",
      "Method in THREE called\n",
      "Method in TWO called\n",
      "Method in ONE called\n",
      "Method in Zero called\n",
      "Help on class Four in module __main__:\n",
      "\n",
      "class Four(Three, Two)\n",
      " |  Method resolution order:\n",
      " |      Four\n",
      " |      Three\n",
      " |      Two\n",
      " |      One\n",
      " |      Zero\n",
      " |      builtins.object\n",
      " |  \n",
      " |  Methods defined here:\n",
      " |  \n",
      " |  action(self)\n",
      " |  \n",
      " |  ----------------------------------------------------------------------\n",
      " |  Data descriptors inherited from Zero:\n",
      " |  \n",
      " |  __dict__\n",
      " |      dictionary for instance variables (if defined)\n",
      " |  \n",
      " |  __weakref__\n",
      " |      list of weak references to the object (if defined)\n",
      "\n"
     ]
    }
   ],
   "source": [
    "class Zero:\n",
    "    def action(self):\n",
    "        print(\"Method in Zero called\")\n",
    "        \n",
    "class One(Zero):\n",
    "    def action(self):\n",
    "        print(\"Method in ONE called\")\n",
    "        super().action()\n",
    "        \n",
    "class Two(One):\n",
    "    def action(self):\n",
    "        print(\"Method in TWO called\")\n",
    "        super().action()\n",
    "        \n",
    "class Three( One):\n",
    "    def action(self):\n",
    "        print(\"Method in THREE called\")\n",
    "        super().action()\n",
    "        \n",
    "class Four(Three,Two):\n",
    "    def action(self):\n",
    "        print(\"Method in FOUR called\")\n",
    "        super().action()\n",
    "        \n",
    "number=Four()\n",
    "number.action()\n",
    "help(Four)"
   ]
  },
  {
   "cell_type": "markdown",
   "metadata": {},
   "source": [
    "# 9. \\*args and \\**kwargs\n",
    "You will often come across these two terms when dealing with functions in Python, specially in OOP. These terms are used in place of arguments while writing a function. Example: some_function(\\*args, \\**kwargs)\n",
    "<br> The main use of these two terms is to pass arguments having variable lengths. \n",
    "## 9.1. \\*args\n",
    "This is used to pass a list of arguments which are __not keyworded__ like in a dictionary, having variable length. To elaborate,lets look at an example of a function called guest_list which makes a nice directory of guests arriving at the party. Whilst writing this function you may not be still aware of the number of guests coming to the party. In this case we can pass *arg to specify a list of variables whose length is unknown. "
   ]
  },
  {
   "cell_type": "code",
   "execution_count": 114,
   "metadata": {},
   "outputs": [
    {
     "name": "stdout",
     "output_type": "stream",
     "text": [
      "Guest1:  Tiina\n",
      "Guest2:  Merja\n",
      "Guest3:  Krittika\n"
     ]
    }
   ],
   "source": [
    "def guest_list(*args):\n",
    "    for i,guest in enumerate(args):\n",
    "        print (f\"Guest{i+1}: \",guest)\n",
    "args=[\"Tiina\", \"Merja\", \"Krittika\"]\n",
    "guest_list(*args)"
   ]
  },
  {
   "cell_type": "markdown",
   "metadata": {},
   "source": [
    "## 9.2. \\**kwargs\n",
    "This is used to pass a list of __keyworded__ arguments having variable length. Lets run the above example to explain kwargs. But this time, in addition to guest list of names, we will also add their relationship to the party host. "
   ]
  },
  {
   "cell_type": "code",
   "execution_count": 120,
   "metadata": {},
   "outputs": [
    {
     "name": "stdout",
     "output_type": "stream",
     "text": [
      "Guest: Pam, relation to the host: sister\n",
      "Guest: Linda, relation to the host: wife\n",
      "Guest: Tim, relation to the host: brother\n"
     ]
    }
   ],
   "source": [
    "def guest_list(**kwargs):\n",
    "    for guest, relation in kwargs.items():\n",
    "        print (f\"Guest: {guest}, relation to the host: {relation}\")\n",
    "kwargs={\"Pam\": \"sister\", \"Linda\": \"wife\", \"Tim\": \"brother\"}\n",
    "guest_list(**kwargs)"
   ]
  },
  {
   "cell_type": "markdown",
   "metadata": {},
   "source": [
    "Lets look at another very useful usage of this form of function creating using \\*arg and \\**kwargs"
   ]
  },
  {
   "cell_type": "code",
   "execution_count": 125,
   "metadata": {},
   "outputs": [
    {
     "name": "stdout",
     "output_type": "stream",
     "text": [
      "Value of argument1: one\n",
      "Value of argument2: 2\n",
      "Value of argument3: 11\n"
     ]
    }
   ],
   "source": [
    "def kwarg_arg_use(arg1, arg2, arg3):\n",
    "    print(f\"Value of argument1: {arg1}\")\n",
    "    print(f\"Value of argument2: {arg2}\")\n",
    "    print(f\"Value of argument3: {arg3}\")\n",
    "        \n",
    "using_arg=[\"one\", 2, \"11\"]\n",
    "kwarg_arg_use(*using_arg)"
   ]
  },
  {
   "cell_type": "code",
   "execution_count": 127,
   "metadata": {},
   "outputs": [
    {
     "name": "stdout",
     "output_type": "stream",
     "text": [
      "Value of argument1: three\n",
      "Value of argument2: 2\n",
      "Value of argument3: 1\n"
     ]
    }
   ],
   "source": [
    "using_kwarg ={\"arg1\":\"three\",\"arg2\": 2, \"arg3\": \"1\"}\n",
    "kwarg_arg_use(**using_kwarg)"
   ]
  },
  {
   "cell_type": "markdown",
   "metadata": {},
   "source": [
    "# 10. @property\n",
    "A common concept in OOP is the __@property__ decorator. This concept is explained in details in __[@property_Explained_in_Python](https://www.machinelearningplus.com/python/python-property/)__\n",
    "<br> Explained simply, the @property decorator allows a method to be called like an attribute without the (). This is useful when you have a case of multiple inheritance or where there are inter-dependencies between attributes. Lets say you have attributes which inherit from a parent attribute. Now when you change the parent attribute outside the class and you want the ones inheriting from the parent to be also inheriting the change automatically, the @property decorator comes in handy. \n",
    "<br> The @property decorator on _method\\_name_ is often followed by @method\\_name.setter decorator. While @property decorator allows you to access a method as an attribute, this setter decorator helps you to achieve exactly what I explained above i.e. making sure that the inheriting attributes also change when source attribute is changed.\n",
    "<br> Lets demonstrate this concept with the following block of code. We will create a class _VideoGame_ which takes attributes: user_name, user_age. We want to create the character name of the user as name_age. However, now if an existing user wants to change his character name, we want that the database also updates the base attributes user_name and user_age accordingly.\n"
   ]
  },
  {
   "cell_type": "code",
   "execution_count": 9,
   "metadata": {},
   "outputs": [
    {
     "name": "stdout",
     "output_type": "stream",
     "text": [
      "25\n",
      "Daniel\n"
     ]
    }
   ],
   "source": [
    "class VideoGame:\n",
    "    def __init__(self,user_name, user_age):\n",
    "        self.user_name=user_name\n",
    "        self.user_age=user_age\n",
    "    @property\n",
    "    def character_name(self):\n",
    "        return self.user_name + '_'+ self.user_age\n",
    "    \n",
    "    @character_name.setter\n",
    "    def character_name(self, name):\n",
    "        user, age = name.split(\"_\")\n",
    "        self.user_name = user\n",
    "        self.user_age = age\n",
    "        \n",
    "player1=VideoGame('Danny', '21')\n",
    "player1.character_name\n",
    "\n",
    "player1.character_name = 'Daniel_25'\n",
    "print(player1.user_age)\n",
    "print(player1.user_name)"
   ]
  }
 ],
 "metadata": {
  "kernelspec": {
   "display_name": "Python 3",
   "language": "python",
   "name": "python3"
  },
  "language_info": {
   "codemirror_mode": {
    "name": "ipython",
    "version": 3
   },
   "file_extension": ".py",
   "mimetype": "text/x-python",
   "name": "python",
   "nbconvert_exporter": "python",
   "pygments_lexer": "ipython3",
   "version": "3.7.1"
  }
 },
 "nbformat": 4,
 "nbformat_minor": 2
}
